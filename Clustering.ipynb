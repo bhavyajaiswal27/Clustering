{
  "nbformat": 4,
  "nbformat_minor": 0,
  "metadata": {
    "colab": {
      "provenance": [],
      "include_colab_link": true
    },
    "kernelspec": {
      "name": "python3",
      "display_name": "Python 3"
    },
    "language_info": {
      "name": "python"
    }
  },
  "cells": [
    {
      "cell_type": "markdown",
      "metadata": {
        "id": "view-in-github",
        "colab_type": "text"
      },
      "source": [
        "<a href=\"https://colab.research.google.com/github/bhavyajaiswal27/Clustering/blob/main/Clustering.ipynb\" target=\"_parent\"><img src=\"https://colab.research.google.com/assets/colab-badge.svg\" alt=\"Open In Colab\"/></a>"
      ]
    },
    {
      "cell_type": "code",
      "execution_count": 1,
      "metadata": {
        "id": "nTsiAmvALUBm"
      },
      "outputs": [],
      "source": [
        "## 1. Import Libraries\n",
        "\n",
        "import numpy as np\n",
        "import pandas as pd\n",
        "import matplotlib.pyplot as plt\n",
        "import seaborn as sns\n",
        "\n",
        "from sklearn import datasets\n",
        "from sklearn.preprocessing import MinMaxScaler, StandardScaler\n",
        "from sklearn.decomposition import PCA\n",
        "from sklearn.cluster import KMeans, MeanShift, estimate_bandwidth, AgglomerativeClustering\n",
        "from sklearn.metrics import silhouette_score, calinski_harabasz_score, davies_bouldin_score\n",
        "import warnings\n",
        "warnings.filterwarnings('ignore')"
      ]
    },
    {
      "cell_type": "code",
      "source": [
        "## 2. Load Dataset\n",
        "\n",
        "data = datasets.load_breast_cancer()\n",
        "X = pd.DataFrame(data.data, columns=data.feature_names)\n",
        "y = data.target"
      ],
      "metadata": {
        "id": "rIqLDFDRQIrh"
      },
      "execution_count": 3,
      "outputs": []
    },
    {
      "cell_type": "code",
      "source": [
        "## 3. Preprocessing Functions\n",
        "\n",
        "def normalize(X):\n",
        "    return MinMaxScaler().fit_transform(X)\n",
        "\n",
        "def standardize(X):\n",
        "    return StandardScaler().fit_transform(X)\n",
        "\n",
        "def apply_pca(X, n_components=2):\n",
        "    return PCA(n_components=n_components).fit_transform(X)\n",
        "\n",
        "def transform_and_normalize(X):\n",
        "    return normalize(standardize(X))\n",
        "\n",
        "def transform_norm_pca(X):\n",
        "    return apply_pca(transform_and_normalize(X))"
      ],
      "metadata": {
        "id": "qsjn9eHLPWOn"
      },
      "execution_count": 4,
      "outputs": []
    },
    {
      "cell_type": "code",
      "source": [
        "## 4. Clustering Evaluation\n",
        "\n",
        "def evaluate_clustering(X, labels):\n",
        "    return {\n",
        "        'Silhouette': round(silhouette_score(X, labels), 2),\n",
        "        'Calinski-Harabasz': int(calinski_harabasz_score(X, labels)),\n",
        "        'Davies-Bouldin': round(davies_bouldin_score(X, labels), 2)\n",
        "    }"
      ],
      "metadata": {
        "id": "vjeVlOOyQQu5"
      },
      "execution_count": 5,
      "outputs": []
    },
    {
      "cell_type": "code",
      "source": [
        "## 5. Run Clustering\n",
        "\n",
        "def run_all_clustering(X, name):\n",
        "    results = []\n",
        "\n",
        "    # KMeans\n",
        "    for k in [3, 4, 5]:\n",
        "        model = KMeans(n_clusters=k, random_state=42).fit(X)\n",
        "        res = evaluate_clustering(X, model.labels_)\n",
        "        results.append(['KMeans', name, f'c={k}'] + list(res.values()))\n",
        "\n",
        "    # Hierarchical\n",
        "    for k in [3, 4, 5]:\n",
        "        model = AgglomerativeClustering(n_clusters=k).fit(X)\n",
        "        res = evaluate_clustering(X, model.labels_)\n",
        "        results.append(['Hierarchical', name, f'c={k}'] + list(res.values()))\n",
        "\n",
        "    # Mean Shift (auto bandwidth)\n",
        "    try:\n",
        "        ms = MeanShift(bandwidth=estimate_bandwidth(X, quantile=0.2)).fit(X)\n",
        "        res = evaluate_clustering(X, ms.labels_)\n",
        "        results.append(['MeanShift', name, f'c={len(np.unique(ms.labels_))}'] + list(res.values()))\n",
        "    except:\n",
        "        results.append(['MeanShift', name, 'c=NA', 'NA', 'NA', 'NA'])\n",
        "\n",
        "    return results"
      ],
      "metadata": {
        "id": "ji-bwq0JQTl6"
      },
      "execution_count": 6,
      "outputs": []
    },
    {
      "cell_type": "code",
      "source": [
        "## 6. All Variants of Data\n",
        "\n",
        "variants = {\n",
        "    'No Processing': X,\n",
        "    'Normalized': normalize(X),\n",
        "    'Transformed': standardize(X),\n",
        "    'PCA': apply_pca(X),\n",
        "    'T+N': transform_and_normalize(X),\n",
        "    'T+N+PCA': transform_norm_pca(X)\n",
        "}\n",
        "\n",
        "all_results = []\n",
        "\n",
        "for name, data_variant in variants.items():\n",
        "    res = run_all_clustering(data_variant, name)\n",
        "    all_results.extend(res)"
      ],
      "metadata": {
        "id": "McCpgL7sQXQ5"
      },
      "execution_count": 7,
      "outputs": []
    },
    {
      "cell_type": "code",
      "source": [
        "## 7. Results DataFrame\n",
        "\n",
        "results_df = pd.DataFrame(all_results, columns=['Method', 'Preprocessing', 'Clusters', 'Silhouette', 'Calinski-Harabasz', 'Davies-Bouldin'])\n",
        "\n",
        "# Display\n",
        "print(results_df)"
      ],
      "metadata": {
        "colab": {
          "base_uri": "https://localhost:8080/"
        },
        "id": "xN7QgPJwQcat",
        "outputId": "bde38f87-514b-41bc-8e46-29c899173a8a"
      },
      "execution_count": 8,
      "outputs": [
        {
          "output_type": "stream",
          "name": "stdout",
          "text": [
            "          Method  Preprocessing Clusters  Silhouette  Calinski-Harabasz  \\\n",
            "0         KMeans  No Processing      c=3        0.65               1246   \n",
            "1         KMeans  No Processing      c=4        0.54               1447   \n",
            "2         KMeans  No Processing      c=5        0.51               1614   \n",
            "3   Hierarchical  No Processing      c=3        0.51               1089   \n",
            "4   Hierarchical  No Processing      c=4        0.51               1245   \n",
            "5   Hierarchical  No Processing      c=5        0.51               1541   \n",
            "6      MeanShift  No Processing      c=9        0.62                443   \n",
            "7         KMeans     Normalized      c=3        0.33                253   \n",
            "8         KMeans     Normalized      c=4        0.18                189   \n",
            "9         KMeans     Normalized      c=5        0.17                178   \n",
            "10  Hierarchical     Normalized      c=3        0.34                235   \n",
            "11  Hierarchical     Normalized      c=4        0.14                185   \n",
            "12  Hierarchical     Normalized      c=5        0.13                158   \n",
            "13     MeanShift     Normalized     c=20        0.15                 25   \n",
            "14        KMeans    Transformed      c=3        0.32                196   \n",
            "15        KMeans    Transformed      c=4        0.27                158   \n",
            "16        KMeans    Transformed      c=5        0.16                118   \n",
            "17  Hierarchical    Transformed      c=3        0.33                182   \n",
            "18  Hierarchical    Transformed      c=4        0.30                138   \n",
            "19  Hierarchical    Transformed      c=5        0.24                116   \n",
            "20     MeanShift    Transformed     c=25        0.17                 23   \n",
            "21        KMeans            PCA      c=3        0.65               1257   \n",
            "22        KMeans            PCA      c=4        0.55               1464   \n",
            "23        KMeans            PCA      c=5        0.51               1648   \n",
            "24  Hierarchical            PCA      c=3        0.52               1089   \n",
            "25  Hierarchical            PCA      c=4        0.53               1369   \n",
            "26  Hierarchical            PCA      c=5        0.48               1421   \n",
            "27     MeanShift            PCA      c=9        0.62                435   \n",
            "28        KMeans            T+N      c=3        0.33                253   \n",
            "29        KMeans            T+N      c=4        0.18                189   \n",
            "30        KMeans            T+N      c=5        0.17                178   \n",
            "31  Hierarchical            T+N      c=3        0.34                235   \n",
            "32  Hierarchical            T+N      c=4        0.14                185   \n",
            "33  Hierarchical            T+N      c=5        0.13                158   \n",
            "34     MeanShift            T+N     c=20        0.15                 25   \n",
            "35        KMeans        T+N+PCA      c=3        0.48                563   \n",
            "36        KMeans        T+N+PCA      c=4        0.39                503   \n",
            "37        KMeans        T+N+PCA      c=5        0.32                451   \n",
            "38  Hierarchical        T+N+PCA      c=3        0.43                512   \n",
            "39  Hierarchical        T+N+PCA      c=4        0.33                448   \n",
            "40  Hierarchical        T+N+PCA      c=5        0.35                419   \n",
            "41     MeanShift        T+N+PCA      c=5        0.47                330   \n",
            "\n",
            "    Davies-Bouldin  \n",
            "0             0.63  \n",
            "1             0.61  \n",
            "2             0.62  \n",
            "3             0.63  \n",
            "4             0.61  \n",
            "5             0.61  \n",
            "6             0.47  \n",
            "7             1.46  \n",
            "8             1.76  \n",
            "9             1.72  \n",
            "10            1.47  \n",
            "11            1.91  \n",
            "12            1.86  \n",
            "13            1.18  \n",
            "14            1.54  \n",
            "15            1.49  \n",
            "16            1.43  \n",
            "17            1.56  \n",
            "18            1.48  \n",
            "19            1.62  \n",
            "20            1.03  \n",
            "21            0.63  \n",
            "22            0.60  \n",
            "23            0.61  \n",
            "24            0.62  \n",
            "25            0.59  \n",
            "26            0.59  \n",
            "27            0.46  \n",
            "28            1.46  \n",
            "29            1.76  \n",
            "30            1.72  \n",
            "31            1.47  \n",
            "32            1.91  \n",
            "33            1.86  \n",
            "34            1.18  \n",
            "35            0.93  \n",
            "36            0.89  \n",
            "37            1.01  \n",
            "38            1.06  \n",
            "39            0.93  \n",
            "40            0.88  \n",
            "41            0.80  \n"
          ]
        }
      ]
    },
    {
      "cell_type": "code",
      "source": [
        "## 8. Visualization\n",
        "\n",
        "plt.figure(figsize=(12,6))\n",
        "sns.barplot(data=results_df[results_df['Method'] == 'KMeans'], x='Clusters', y='Silhouette', hue='Preprocessing')\n",
        "plt.title('KMeans Clustering - Silhouette Scores')\n",
        "plt.legend(bbox_to_anchor=(1.05, 1), loc='upper left')\n",
        "plt.show()"
      ],
      "metadata": {
        "colab": {
          "base_uri": "https://localhost:8080/",
          "height": 564
        },
        "id": "qVMBO2mHQepu",
        "outputId": "d9a0a31c-8d22-4a09-93da-cc30723b4a1e"
      },
      "execution_count": 11,
      "outputs": [
        {
          "output_type": "display_data",
          "data": {
            "text/plain": [
              "<Figure size 1200x600 with 1 Axes>"
            ],
            "image/png": "[encoded data removed]"
          },
          "metadata": {}
        }
      ]
    }
  ]
}