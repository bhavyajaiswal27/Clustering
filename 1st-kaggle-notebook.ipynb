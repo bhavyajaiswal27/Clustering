{
 "cells": [
  {
   "cell_type": "code",
   "execution_count": 1,
   "id": "9a7c5e0e",
   "metadata": {
    "_cell_guid": "b1076dfc-b9ad-4769-8c92-a6c4dae69d19",
    "_uuid": "8f2839f25d086af736a60e9eeb907d3b93b6e0e5",
    "execution": {
     "iopub.execute_input": "2025-05-01T12:16:21.590218Z",
     "iopub.status.busy": "2025-05-01T12:16:21.589103Z",
     "iopub.status.idle": "2025-05-01T12:16:23.728641Z",
     "shell.execute_reply": "2025-05-01T12:16:23.727389Z"
    },
    "papermill": {
     "duration": 2.14875,
     "end_time": "2025-05-01T12:16:23.730681",
     "exception": false,
     "start_time": "2025-05-01T12:16:21.581931",
     "status": "completed"
    },
    "tags": []
   },
   "outputs": [
    {
     "name": "stdout",
     "output_type": "stream",
     "text": [
      "/kaggle/input/quora-insincere-questions-classification/sample_submission.csv\n",
      "/kaggle/input/quora-insincere-questions-classification/embeddings.zip\n",
      "/kaggle/input/quora-insincere-questions-classification/train.csv\n",
      "/kaggle/input/quora-insincere-questions-classification/test.csv\n"
     ]
    }
   ],
   "source": [
    "# This Python 3 environment comes with many helpful analytics libraries installed\n",
    "# It is defined by the kaggle/python Docker image: https://github.com/kaggle/docker-python\n",
    "# For example, here's several helpful packages to load\n",
    "\n",
    "import numpy as np # linear algebra\n",
    "import pandas as pd # data processing, CSV file I/O (e.g. pd.read_csv)\n",
    "\n",
    "# Input data files are available in the read-only \"../input/\" directory\n",
    "# For example, running this (by clicking run or pressing Shift+Enter) will list all files under the input directory\n",
    "\n",
    "import os\n",
    "for dirname, _, filenames in os.walk('/kaggle/input'):\n",
    "    for filename in filenames:\n",
    "        print(os.path.join(dirname, filename))\n",
    "\n",
    "# You can write up to 20GB to the current directory (/kaggle/working/) that gets preserved as output when you create a version using \"Save & Run All\" \n",
    "# You can also write temporary files to /kaggle/temp/, but they won't be saved outside of the current session"
   ]
  },
  {
   "cell_type": "code",
   "execution_count": 2,
   "id": "8b18c2cf",
   "metadata": {
    "execution": {
     "iopub.execute_input": "2025-05-01T12:16:23.740194Z",
     "iopub.status.busy": "2025-05-01T12:16:23.739704Z",
     "iopub.status.idle": "2025-05-01T12:16:23.747337Z",
     "shell.execute_reply": "2025-05-01T12:16:23.745875Z"
    },
    "papermill": {
     "duration": 0.014278,
     "end_time": "2025-05-01T12:16:23.749147",
     "exception": false,
     "start_time": "2025-05-01T12:16:23.734869",
     "status": "completed"
    },
    "tags": []
   },
   "outputs": [
    {
     "name": "stdout",
     "output_type": "stream",
     "text": [
      "/kaggle/input/quora-insincere-questions-classification/sample_submission.csv\n",
      "/kaggle/input/quora-insincere-questions-classification/embeddings.zip\n",
      "/kaggle/input/quora-insincere-questions-classification/train.csv\n",
      "/kaggle/input/quora-insincere-questions-classification/test.csv\n"
     ]
    }
   ],
   "source": [
    "for dirname, _, filenames in os.walk('/kaggle/input'):\n",
    "    for filename in filenames:\n",
    "        print(os.path.join(dirname, filename))"
   ]
  },
  {
   "cell_type": "code",
   "execution_count": 3,
   "id": "e080c49a",
   "metadata": {
    "execution": {
     "iopub.execute_input": "2025-05-01T12:16:23.758485Z",
     "iopub.status.busy": "2025-05-01T12:16:23.758139Z",
     "iopub.status.idle": "2025-05-01T12:16:25.616034Z",
     "shell.execute_reply": "2025-05-01T12:16:25.614996Z"
    },
    "papermill": {
     "duration": 1.864818,
     "end_time": "2025-05-01T12:16:25.618102",
     "exception": false,
     "start_time": "2025-05-01T12:16:23.753284",
     "status": "completed"
    },
    "tags": []
   },
   "outputs": [],
   "source": [
    "import os\n",
    "import numpy as np\n",
    "import pandas as pd\n",
    "from sklearn.model_selection import train_test_split\n",
    "from sklearn.utils.class_weight import compute_class_weight\n",
    "from sklearn.feature_extraction.text import TfidfVectorizer"
   ]
  },
  {
   "cell_type": "code",
   "execution_count": 4,
   "id": "1a92a2c2",
   "metadata": {
    "execution": {
     "iopub.execute_input": "2025-05-01T12:16:25.627617Z",
     "iopub.status.busy": "2025-05-01T12:16:25.627044Z",
     "iopub.status.idle": "2025-05-01T12:16:31.069677Z",
     "shell.execute_reply": "2025-05-01T12:16:31.068260Z"
    },
    "papermill": {
     "duration": 5.449861,
     "end_time": "2025-05-01T12:16:31.071965",
     "exception": false,
     "start_time": "2025-05-01T12:16:25.622104",
     "status": "completed"
    },
    "tags": []
   },
   "outputs": [],
   "source": [
    "np.random.seed(42)\n",
    "df = pd.read_csv(\"/kaggle/input/quora-insincere-questions-classification/train.csv\")"
   ]
  },
  {
   "cell_type": "code",
   "execution_count": 5,
   "id": "80c1aec8",
   "metadata": {
    "execution": {
     "iopub.execute_input": "2025-05-01T12:16:31.081535Z",
     "iopub.status.busy": "2025-05-01T12:16:31.081090Z",
     "iopub.status.idle": "2025-05-01T12:16:31.110193Z",
     "shell.execute_reply": "2025-05-01T12:16:31.108921Z"
    },
    "papermill": {
     "duration": 0.035748,
     "end_time": "2025-05-01T12:16:31.111976",
     "exception": false,
     "start_time": "2025-05-01T12:16:31.076228",
     "status": "completed"
    },
    "tags": []
   },
   "outputs": [
    {
     "data": {
      "text/html": [
       "<div>\n",
       "<style scoped>\n",
       "    .dataframe tbody tr th:only-of-type {\n",
       "        vertical-align: middle;\n",
       "    }\n",
       "\n",
       "    .dataframe tbody tr th {\n",
       "        vertical-align: top;\n",
       "    }\n",
       "\n",
       "    .dataframe thead th {\n",
       "        text-align: right;\n",
       "    }\n",
       "</style>\n",
       "<table border=\"1\" class=\"dataframe\">\n",
       "  <thead>\n",
       "    <tr style=\"text-align: right;\">\n",
       "      <th></th>\n",
       "      <th>qid</th>\n",
       "      <th>question_text</th>\n",
       "      <th>target</th>\n",
       "    </tr>\n",
       "  </thead>\n",
       "  <tbody>\n",
       "    <tr>\n",
       "      <th>0</th>\n",
       "      <td>00002165364db923c7e6</td>\n",
       "      <td>How did Quebec nationalists see their province...</td>\n",
       "      <td>0</td>\n",
       "    </tr>\n",
       "    <tr>\n",
       "      <th>1</th>\n",
       "      <td>000032939017120e6e44</td>\n",
       "      <td>Do you have an adopted dog, how would you enco...</td>\n",
       "      <td>0</td>\n",
       "    </tr>\n",
       "    <tr>\n",
       "      <th>2</th>\n",
       "      <td>0000412ca6e4628ce2cf</td>\n",
       "      <td>Why does velocity affect time? Does velocity a...</td>\n",
       "      <td>0</td>\n",
       "    </tr>\n",
       "    <tr>\n",
       "      <th>3</th>\n",
       "      <td>000042bf85aa498cd78e</td>\n",
       "      <td>How did Otto von Guericke used the Magdeburg h...</td>\n",
       "      <td>0</td>\n",
       "    </tr>\n",
       "    <tr>\n",
       "      <th>4</th>\n",
       "      <td>0000455dfa3e01eae3af</td>\n",
       "      <td>Can I convert montra helicon D to a mountain b...</td>\n",
       "      <td>0</td>\n",
       "    </tr>\n",
       "  </tbody>\n",
       "</table>\n",
       "</div>"
      ],
      "text/plain": [
       "                    qid                                      question_text  \\\n",
       "0  00002165364db923c7e6  How did Quebec nationalists see their province...   \n",
       "1  000032939017120e6e44  Do you have an adopted dog, how would you enco...   \n",
       "2  0000412ca6e4628ce2cf  Why does velocity affect time? Does velocity a...   \n",
       "3  000042bf85aa498cd78e  How did Otto von Guericke used the Magdeburg h...   \n",
       "4  0000455dfa3e01eae3af  Can I convert montra helicon D to a mountain b...   \n",
       "\n",
       "   target  \n",
       "0       0  \n",
       "1       0  \n",
       "2       0  \n",
       "3       0  \n",
       "4       0  "
      ]
     },
     "execution_count": 5,
     "metadata": {},
     "output_type": "execute_result"
    }
   ],
   "source": [
    "df.head()"
   ]
  },
  {
   "cell_type": "code",
   "execution_count": 6,
   "id": "9fc18b4f",
   "metadata": {
    "execution": {
     "iopub.execute_input": "2025-05-01T12:16:31.122187Z",
     "iopub.status.busy": "2025-05-01T12:16:31.121191Z",
     "iopub.status.idle": "2025-05-01T12:16:31.187069Z",
     "shell.execute_reply": "2025-05-01T12:16:31.185925Z"
    },
    "papermill": {
     "duration": 0.072678,
     "end_time": "2025-05-01T12:16:31.188834",
     "exception": false,
     "start_time": "2025-05-01T12:16:31.116156",
     "status": "completed"
    },
    "tags": []
   },
   "outputs": [
    {
     "data": {
      "text/html": [
       "<div>\n",
       "<style scoped>\n",
       "    .dataframe tbody tr th:only-of-type {\n",
       "        vertical-align: middle;\n",
       "    }\n",
       "\n",
       "    .dataframe tbody tr th {\n",
       "        vertical-align: top;\n",
       "    }\n",
       "\n",
       "    .dataframe thead th {\n",
       "        text-align: right;\n",
       "    }\n",
       "</style>\n",
       "<table border=\"1\" class=\"dataframe\">\n",
       "  <thead>\n",
       "    <tr style=\"text-align: right;\">\n",
       "      <th></th>\n",
       "      <th>question_text</th>\n",
       "      <th>target</th>\n",
       "    </tr>\n",
       "  </thead>\n",
       "  <tbody>\n",
       "    <tr>\n",
       "      <th>0</th>\n",
       "      <td>How did Quebec nationalists see their province...</td>\n",
       "      <td>0</td>\n",
       "    </tr>\n",
       "    <tr>\n",
       "      <th>1</th>\n",
       "      <td>Do you have an adopted dog, how would you enco...</td>\n",
       "      <td>0</td>\n",
       "    </tr>\n",
       "    <tr>\n",
       "      <th>2</th>\n",
       "      <td>Why does velocity affect time? Does velocity a...</td>\n",
       "      <td>0</td>\n",
       "    </tr>\n",
       "    <tr>\n",
       "      <th>3</th>\n",
       "      <td>How did Otto von Guericke used the Magdeburg h...</td>\n",
       "      <td>0</td>\n",
       "    </tr>\n",
       "    <tr>\n",
       "      <th>4</th>\n",
       "      <td>Can I convert montra helicon D to a mountain b...</td>\n",
       "      <td>0</td>\n",
       "    </tr>\n",
       "    <tr>\n",
       "      <th>5</th>\n",
       "      <td>Is Gaza slowly becoming Auschwitz, Dachau or T...</td>\n",
       "      <td>0</td>\n",
       "    </tr>\n",
       "    <tr>\n",
       "      <th>6</th>\n",
       "      <td>Why does Quora automatically ban conservative ...</td>\n",
       "      <td>0</td>\n",
       "    </tr>\n",
       "    <tr>\n",
       "      <th>7</th>\n",
       "      <td>Is it crazy if I wash or wipe my groceries off...</td>\n",
       "      <td>0</td>\n",
       "    </tr>\n",
       "    <tr>\n",
       "      <th>8</th>\n",
       "      <td>Is there such a thing as dressing moderately, ...</td>\n",
       "      <td>0</td>\n",
       "    </tr>\n",
       "    <tr>\n",
       "      <th>9</th>\n",
       "      <td>Is it just me or have you ever been in this ph...</td>\n",
       "      <td>0</td>\n",
       "    </tr>\n",
       "  </tbody>\n",
       "</table>\n",
       "</div>"
      ],
      "text/plain": [
       "                                       question_text  target\n",
       "0  How did Quebec nationalists see their province...       0\n",
       "1  Do you have an adopted dog, how would you enco...       0\n",
       "2  Why does velocity affect time? Does velocity a...       0\n",
       "3  How did Otto von Guericke used the Magdeburg h...       0\n",
       "4  Can I convert montra helicon D to a mountain b...       0\n",
       "5  Is Gaza slowly becoming Auschwitz, Dachau or T...       0\n",
       "6  Why does Quora automatically ban conservative ...       0\n",
       "7  Is it crazy if I wash or wipe my groceries off...       0\n",
       "8  Is there such a thing as dressing moderately, ...       0\n",
       "9  Is it just me or have you ever been in this ph...       0"
      ]
     },
     "execution_count": 6,
     "metadata": {},
     "output_type": "execute_result"
    }
   ],
   "source": [
    "df = df.drop(\"qid\", axis=1)\n",
    "df.head(10)"
   ]
  },
  {
   "cell_type": "code",
   "execution_count": 7,
   "id": "ac3015b5",
   "metadata": {
    "execution": {
     "iopub.execute_input": "2025-05-01T12:16:31.199960Z",
     "iopub.status.busy": "2025-05-01T12:16:31.198838Z",
     "iopub.status.idle": "2025-05-01T12:16:31.204134Z",
     "shell.execute_reply": "2025-05-01T12:16:31.203123Z"
    },
    "papermill": {
     "duration": 0.01236,
     "end_time": "2025-05-01T12:16:31.205811",
     "exception": false,
     "start_time": "2025-05-01T12:16:31.193451",
     "status": "completed"
    },
    "tags": []
   },
   "outputs": [],
   "source": [
    "from sklearn.feature_extraction.text import TfidfVectorizer"
   ]
  },
  {
   "cell_type": "code",
   "execution_count": 8,
   "id": "b5e2d4d7",
   "metadata": {
    "execution": {
     "iopub.execute_input": "2025-05-01T12:16:31.216211Z",
     "iopub.status.busy": "2025-05-01T12:16:31.215794Z",
     "iopub.status.idle": "2025-05-01T12:17:38.348262Z",
     "shell.execute_reply": "2025-05-01T12:17:38.347191Z"
    },
    "papermill": {
     "duration": 67.139976,
     "end_time": "2025-05-01T12:17:38.350363",
     "exception": false,
     "start_time": "2025-05-01T12:16:31.210387",
     "status": "completed"
    },
    "tags": []
   },
   "outputs": [],
   "source": [
    "x = df[\"question_text\"]\n",
    "y = df[\"target\"]\n",
    "\n",
    "vectorizer = TfidfVectorizer(\n",
    "    max_features = 10000,\n",
    "    ngram_range = (1,2),\n",
    "    stop_words = 'english'\n",
    ")\n",
    "\n",
    "x_tfidf = vectorizer.fit_transform(x)\n",
    "\n",
    "df_balanced = pd.DataFrame({'text': x, 'target': y})\n",
    "\n",
    "class_0 = df_balanced[df_balanced['target'] == 0]\n",
    "class_1 = df_balanced[df_balanced['target'] == 1]\n",
    "\n",
    "# Find minority class size\n",
    "min_size = min(len(class_0), len(class_1))\n",
    "\n",
    "# Downsample majority class\n",
    "class_0_downsampled = class_0.sample(min_size, random_state=42)\n",
    "class_1_downsampled = class_1.sample(min_size, random_state=42)\n",
    "\n",
    "# Combine and shuffle\n",
    "df_resampled = pd.concat([class_0_downsampled, class_1_downsampled]).sample(frac=1, random_state=42).reset_index(drop=True)\n",
    "\n",
    "# Final feature and target after resampling\n",
    "x_resampled = vectorizer.transform(df_resampled['text'])\n",
    "y_resampled = df_resampled['target']"
   ]
  },
  {
   "cell_type": "code",
   "execution_count": 9,
   "id": "0ddb063a",
   "metadata": {
    "execution": {
     "iopub.execute_input": "2025-05-01T12:17:38.360753Z",
     "iopub.status.busy": "2025-05-01T12:17:38.360400Z",
     "iopub.status.idle": "2025-05-01T12:17:40.084586Z",
     "shell.execute_reply": "2025-05-01T12:17:40.082637Z"
    },
    "papermill": {
     "duration": 1.731792,
     "end_time": "2025-05-01T12:17:40.086800",
     "exception": false,
     "start_time": "2025-05-01T12:17:38.355008",
     "status": "completed"
    },
    "tags": []
   },
   "outputs": [],
   "source": [
    "xtrain, xval, ytrain, yval = train_test_split(x_resampled, y_resampled, random_state=42, stratify=y_resampled)\n",
    "xtest = pd.read_csv('/kaggle/input/quora-insincere-questions-classification/test.csv')\n",
    "xtesti = xtest['question_text']"
   ]
  },
  {
   "cell_type": "code",
   "execution_count": 10,
   "id": "24d6964d",
   "metadata": {
    "execution": {
     "iopub.execute_input": "2025-05-01T12:17:40.097114Z",
     "iopub.status.busy": "2025-05-01T12:17:40.096696Z",
     "iopub.status.idle": "2025-05-01T12:17:40.102430Z",
     "shell.execute_reply": "2025-05-01T12:17:40.101196Z"
    },
    "papermill": {
     "duration": 0.01292,
     "end_time": "2025-05-01T12:17:40.104344",
     "exception": false,
     "start_time": "2025-05-01T12:17:40.091424",
     "status": "completed"
    },
    "tags": []
   },
   "outputs": [],
   "source": [
    "from sklearn.utils.class_weight import compute_class_weight"
   ]
  },
  {
   "cell_type": "code",
   "execution_count": 11,
   "id": "988bb36c",
   "metadata": {
    "execution": {
     "iopub.execute_input": "2025-05-01T12:17:40.113689Z",
     "iopub.status.busy": "2025-05-01T12:17:40.113321Z",
     "iopub.status.idle": "2025-05-01T12:17:40.118605Z",
     "shell.execute_reply": "2025-05-01T12:17:40.117497Z"
    },
    "papermill": {
     "duration": 0.012064,
     "end_time": "2025-05-01T12:17:40.120252",
     "exception": false,
     "start_time": "2025-05-01T12:17:40.108188",
     "status": "completed"
    },
    "tags": []
   },
   "outputs": [],
   "source": [
    "import matplotlib.pyplot as plt"
   ]
  },
  {
   "cell_type": "code",
   "execution_count": 12,
   "id": "a0f452f4",
   "metadata": {
    "execution": {
     "iopub.execute_input": "2025-05-01T12:17:40.130513Z",
     "iopub.status.busy": "2025-05-01T12:17:40.129552Z",
     "iopub.status.idle": "2025-05-01T12:17:40.440719Z",
     "shell.execute_reply": "2025-05-01T12:17:40.439575Z"
    },
    "papermill": {
     "duration": 0.318512,
     "end_time": "2025-05-01T12:17:40.442789",
     "exception": false,
     "start_time": "2025-05-01T12:17:40.124277",
     "status": "completed"
    },
    "tags": []
   },
   "outputs": [
    {
     "name": "stdout",
     "output_type": "stream",
     "text": [
      "{0: 1.000008249872127, 1: 0.9999917502639916}\n"
     ]
    },
    {
     "data": {
      "image/png": "[encoded data removed]",
      "text/plain": [
       "<Figure size 600x400 with 1 Axes>"
      ]
     },
     "metadata": {},
     "output_type": "display_data"
    }
   ],
   "source": [
    "classw = compute_class_weight(\n",
    "    class_weight='balanced',\n",
    "    classes=np.unique(ytrain),\n",
    "    y=ytrain\n",
    ")\n",
    "classwdict = dict(enumerate(classw))\n",
    "print(classwdict)\n",
    "plt.figure(figsize=(6,4))\n",
    "plt.bar(classwdict.keys(), classwdict.values(), color='skyblue')\n",
    "plt.xlabel('Class')\n",
    "plt.ylabel('Weight')\n",
    "plt.title('Class Weights')\n",
    "plt.xticks(list(classwdict.keys()))\n",
    "plt.grid(axis='y', linestyle='--', alpha=0.7)\n",
    "plt.tight_layout()\n",
    "plt.show()"
   ]
  },
  {
   "cell_type": "code",
   "execution_count": 13,
   "id": "2074229c",
   "metadata": {
    "execution": {
     "iopub.execute_input": "2025-05-01T12:17:40.455365Z",
     "iopub.status.busy": "2025-05-01T12:17:40.454338Z",
     "iopub.status.idle": "2025-05-01T12:17:40.799048Z",
     "shell.execute_reply": "2025-05-01T12:17:40.797792Z"
    },
    "papermill": {
     "duration": 0.352944,
     "end_time": "2025-05-01T12:17:40.801263",
     "exception": false,
     "start_time": "2025-05-01T12:17:40.448319",
     "status": "completed"
    },
    "tags": []
   },
   "outputs": [],
   "source": [
    "import xgboost as xgb"
   ]
  },
  {
   "cell_type": "code",
   "execution_count": 14,
   "id": "f4e2bb98",
   "metadata": {
    "execution": {
     "iopub.execute_input": "2025-05-01T12:17:40.812720Z",
     "iopub.status.busy": "2025-05-01T12:17:40.812292Z",
     "iopub.status.idle": "2025-05-01T12:17:40.818214Z",
     "shell.execute_reply": "2025-05-01T12:17:40.817018Z"
    },
    "papermill": {
     "duration": 0.014138,
     "end_time": "2025-05-01T12:17:40.820432",
     "exception": false,
     "start_time": "2025-05-01T12:17:40.806294",
     "status": "completed"
    },
    "tags": []
   },
   "outputs": [],
   "source": [
    "model = xgb.XGBClassifier(\n",
    "    objective=\"binary:logistic\",\n",
    "    eval_metric=\"logloss\",\n",
    "    use_label_encoder=False,\n",
    "    n_jobs=-1,\n",
    "    random_state=42\n",
    ")"
   ]
  },
  {
   "cell_type": "code",
   "execution_count": 15,
   "id": "8dbaa087",
   "metadata": {
    "execution": {
     "iopub.execute_input": "2025-05-01T12:17:40.832222Z",
     "iopub.status.busy": "2025-05-01T12:17:40.831844Z",
     "iopub.status.idle": "2025-05-01T12:18:09.627946Z",
     "shell.execute_reply": "2025-05-01T12:18:09.626977Z"
    },
    "papermill": {
     "duration": 28.803852,
     "end_time": "2025-05-01T12:18:09.630192",
     "exception": false,
     "start_time": "2025-05-01T12:17:40.826340",
     "status": "completed"
    },
    "tags": []
   },
   "outputs": [
    {
     "data": {
      "text/html": [
       "<style>#sk-container-id-1 {color: black;background-color: white;}#sk-container-id-1 pre{padding: 0;}#sk-container-id-1 div.sk-toggleable {background-color: white;}#sk-container-id-1 label.sk-toggleable__label {cursor: pointer;display: block;width: 100%;margin-bottom: 0;padding: 0.3em;box-sizing: border-box;text-align: center;}#sk-container-id-1 label.sk-toggleable__label-arrow:before {content: \"▸\";float: left;margin-right: 0.25em;color: #696969;}#sk-container-id-1 label.sk-toggleable__label-arrow:hover:before {color: black;}#sk-container-id-1 div.sk-estimator:hover label.sk-toggleable__label-arrow:before {color: black;}#sk-container-id-1 div.sk-toggleable__content {max-height: 0;max-width: 0;overflow: hidden;text-align: left;background-color: #f0f8ff;}#sk-container-id-1 div.sk-toggleable__content pre {margin: 0.2em;color: black;border-radius: 0.25em;background-color: #f0f8ff;}#sk-container-id-1 input.sk-toggleable__control:checked~div.sk-toggleable__content {max-height: 200px;max-width: 100%;overflow: auto;}#sk-container-id-1 input.sk-toggleable__control:checked~label.sk-toggleable__label-arrow:before {content: \"▾\";}#sk-container-id-1 div.sk-estimator input.sk-toggleable__control:checked~label.sk-toggleable__label {background-color: #d4ebff;}#sk-container-id-1 div.sk-label input.sk-toggleable__control:checked~label.sk-toggleable__label {background-color: #d4ebff;}#sk-container-id-1 input.sk-hidden--visually {border: 0;clip: rect(1px 1px 1px 1px);clip: rect(1px, 1px, 1px, 1px);height: 1px;margin: -1px;overflow: hidden;padding: 0;position: absolute;width: 1px;}#sk-container-id-1 div.sk-estimator {font-family: monospace;background-color: #f0f8ff;border: 1px dotted black;border-radius: 0.25em;box-sizing: border-box;margin-bottom: 0.5em;}#sk-container-id-1 div.sk-estimator:hover {background-color: #d4ebff;}#sk-container-id-1 div.sk-parallel-item::after {content: \"\";width: 100%;border-bottom: 1px solid gray;flex-grow: 1;}#sk-container-id-1 div.sk-label:hover label.sk-toggleable__label {background-color: #d4ebff;}#sk-container-id-1 div.sk-serial::before {content: \"\";position: absolute;border-left: 1px solid gray;box-sizing: border-box;top: 0;bottom: 0;left: 50%;z-index: 0;}#sk-container-id-1 div.sk-serial {display: flex;flex-direction: column;align-items: center;background-color: white;padding-right: 0.2em;padding-left: 0.2em;position: relative;}#sk-container-id-1 div.sk-item {position: relative;z-index: 1;}#sk-container-id-1 div.sk-parallel {display: flex;align-items: stretch;justify-content: center;background-color: white;position: relative;}#sk-container-id-1 div.sk-item::before, #sk-container-id-1 div.sk-parallel-item::before {content: \"\";position: absolute;border-left: 1px solid gray;box-sizing: border-box;top: 0;bottom: 0;left: 50%;z-index: -1;}#sk-container-id-1 div.sk-parallel-item {display: flex;flex-direction: column;z-index: 1;position: relative;background-color: white;}#sk-container-id-1 div.sk-parallel-item:first-child::after {align-self: flex-end;width: 50%;}#sk-container-id-1 div.sk-parallel-item:last-child::after {align-self: flex-start;width: 50%;}#sk-container-id-1 div.sk-parallel-item:only-child::after {width: 0;}#sk-container-id-1 div.sk-dashed-wrapped {border: 1px dashed gray;margin: 0 0.4em 0.5em 0.4em;box-sizing: border-box;padding-bottom: 0.4em;background-color: white;}#sk-container-id-1 div.sk-label label {font-family: monospace;font-weight: bold;display: inline-block;line-height: 1.2em;}#sk-container-id-1 div.sk-label-container {text-align: center;}#sk-container-id-1 div.sk-container {/* jupyter's `normalize.less` sets `[hidden] { display: none; }` but bootstrap.min.css set `[hidden] { display: none !important; }` so we also need the `!important` here to be able to override the default hidden behavior on the sphinx rendered scikit-learn.org. See: https://github.com/scikit-learn/scikit-learn/issues/21755 */display: inline-block !important;position: relative;}#sk-container-id-1 div.sk-text-repr-fallback {display: none;}</style><div id=\"sk-container-id-1\" class=\"sk-top-container\"><div class=\"sk-text-repr-fallback\"><pre>XGBClassifier(base_score=None, booster=None, callbacks=None,\n",
       "              colsample_bylevel=None, colsample_bynode=None,\n",
       "              colsample_bytree=None, device=None, early_stopping_rounds=None,\n",
       "              enable_categorical=False, eval_metric=&#x27;logloss&#x27;,\n",
       "              feature_types=None, gamma=None, grow_policy=None,\n",
       "              importance_type=None, interaction_constraints=None,\n",
       "              learning_rate=None, max_bin=None, max_cat_threshold=None,\n",
       "              max_cat_to_onehot=None, max_delta_step=None, max_depth=None,\n",
       "              max_leaves=None, min_child_weight=None, missing=nan,\n",
       "              monotone_constraints=None, multi_strategy=None, n_estimators=None,\n",
       "              n_jobs=-1, num_parallel_tree=None, random_state=42, ...)</pre><b>In a Jupyter environment, please rerun this cell to show the HTML representation or trust the notebook. <br />On GitHub, the HTML representation is unable to render, please try loading this page with nbviewer.org.</b></div><div class=\"sk-container\" hidden><div class=\"sk-item\"><div class=\"sk-estimator sk-toggleable\"><input class=\"sk-toggleable__control sk-hidden--visually\" id=\"sk-estimator-id-1\" type=\"checkbox\" checked><label for=\"sk-estimator-id-1\" class=\"sk-toggleable__label sk-toggleable__label-arrow\">XGBClassifier</label><div class=\"sk-toggleable__content\"><pre>XGBClassifier(base_score=None, booster=None, callbacks=None,\n",
       "              colsample_bylevel=None, colsample_bynode=None,\n",
       "              colsample_bytree=None, device=None, early_stopping_rounds=None,\n",
       "              enable_categorical=False, eval_metric=&#x27;logloss&#x27;,\n",
       "              feature_types=None, gamma=None, grow_policy=None,\n",
       "              importance_type=None, interaction_constraints=None,\n",
       "              learning_rate=None, max_bin=None, max_cat_threshold=None,\n",
       "              max_cat_to_onehot=None, max_delta_step=None, max_depth=None,\n",
       "              max_leaves=None, min_child_weight=None, missing=nan,\n",
       "              monotone_constraints=None, multi_strategy=None, n_estimators=None,\n",
       "              n_jobs=-1, num_parallel_tree=None, random_state=42, ...)</pre></div></div></div></div></div>"
      ],
      "text/plain": [
       "XGBClassifier(base_score=None, booster=None, callbacks=None,\n",
       "              colsample_bylevel=None, colsample_bynode=None,\n",
       "              colsample_bytree=None, device=None, early_stopping_rounds=None,\n",
       "              enable_categorical=False, eval_metric='logloss',\n",
       "              feature_types=None, gamma=None, grow_policy=None,\n",
       "              importance_type=None, interaction_constraints=None,\n",
       "              learning_rate=None, max_bin=None, max_cat_threshold=None,\n",
       "              max_cat_to_onehot=None, max_delta_step=None, max_depth=None,\n",
       "              max_leaves=None, min_child_weight=None, missing=nan,\n",
       "              monotone_constraints=None, multi_strategy=None, n_estimators=None,\n",
       "              n_jobs=-1, num_parallel_tree=None, random_state=42, ...)"
      ]
     },
     "execution_count": 15,
     "metadata": {},
     "output_type": "execute_result"
    }
   ],
   "source": [
    "model.fit(xtrain, ytrain)"
   ]
  },
  {
   "cell_type": "code",
   "execution_count": 16,
   "id": "3cbb796f",
   "metadata": {
    "execution": {
     "iopub.execute_input": "2025-05-01T12:18:09.641865Z",
     "iopub.status.busy": "2025-05-01T12:18:09.641538Z",
     "iopub.status.idle": "2025-05-01T12:18:10.457993Z",
     "shell.execute_reply": "2025-05-01T12:18:10.457097Z"
    },
    "papermill": {
     "duration": 0.824325,
     "end_time": "2025-05-01T12:18:10.459924",
     "exception": false,
     "start_time": "2025-05-01T12:18:09.635599",
     "status": "completed"
    },
    "tags": []
   },
   "outputs": [
    {
     "data": {
      "text/plain": [
       "0.833881945303799"
      ]
     },
     "execution_count": 16,
     "metadata": {},
     "output_type": "execute_result"
    }
   ],
   "source": [
    "from sklearn.metrics import accuracy_score, confusion_matrix, roc_auc_score, roc_curve\n",
    "import seaborn as sns\n",
    "\n",
    "ypred=model.predict(xval)\n",
    "ypredproba = model.predict_proba(xval)[:,1]\n",
    "\n",
    "accuracy_score(yval, ypred)"
   ]
  },
  {
   "cell_type": "code",
   "execution_count": 17,
   "id": "44b09c44",
   "metadata": {
    "execution": {
     "iopub.execute_input": "2025-05-01T12:18:10.472830Z",
     "iopub.status.busy": "2025-05-01T12:18:10.471540Z",
     "iopub.status.idle": "2025-05-01T12:18:31.132307Z",
     "shell.execute_reply": "2025-05-01T12:18:31.131212Z"
    },
    "papermill": {
     "duration": 20.668455,
     "end_time": "2025-05-01T12:18:31.134049",
     "exception": false,
     "start_time": "2025-05-01T12:18:10.465594",
     "status": "completed"
    },
    "tags": []
   },
   "outputs": [
    {
     "data": {
      "text/html": [
       "<div>\n",
       "<style scoped>\n",
       "    .dataframe tbody tr th:only-of-type {\n",
       "        vertical-align: middle;\n",
       "    }\n",
       "\n",
       "    .dataframe tbody tr th {\n",
       "        vertical-align: top;\n",
       "    }\n",
       "\n",
       "    .dataframe thead th {\n",
       "        text-align: right;\n",
       "    }\n",
       "</style>\n",
       "<table border=\"1\" class=\"dataframe\">\n",
       "  <thead>\n",
       "    <tr style=\"text-align: right;\">\n",
       "      <th></th>\n",
       "      <th>qid</th>\n",
       "      <th>prediction</th>\n",
       "    </tr>\n",
       "  </thead>\n",
       "  <tbody>\n",
       "    <tr>\n",
       "      <th>0</th>\n",
       "      <td>0000163e3ea7c7a74cd7</td>\n",
       "      <td>0</td>\n",
       "    </tr>\n",
       "    <tr>\n",
       "      <th>1</th>\n",
       "      <td>00002bd4fb5d505b9161</td>\n",
       "      <td>0</td>\n",
       "    </tr>\n",
       "    <tr>\n",
       "      <th>2</th>\n",
       "      <td>00007756b4a147d2b0b3</td>\n",
       "      <td>0</td>\n",
       "    </tr>\n",
       "    <tr>\n",
       "      <th>3</th>\n",
       "      <td>000086e4b7e1c7146103</td>\n",
       "      <td>0</td>\n",
       "    </tr>\n",
       "    <tr>\n",
       "      <th>4</th>\n",
       "      <td>0000c4c3fbe8785a3090</td>\n",
       "      <td>0</td>\n",
       "    </tr>\n",
       "    <tr>\n",
       "      <th>...</th>\n",
       "      <td>...</td>\n",
       "      <td>...</td>\n",
       "    </tr>\n",
       "    <tr>\n",
       "      <th>375801</th>\n",
       "      <td>ffff7fa746bd6d6197a9</td>\n",
       "      <td>0</td>\n",
       "    </tr>\n",
       "    <tr>\n",
       "      <th>375802</th>\n",
       "      <td>ffffa1be31c43046ab6b</td>\n",
       "      <td>0</td>\n",
       "    </tr>\n",
       "    <tr>\n",
       "      <th>375803</th>\n",
       "      <td>ffffae173b6ca6bfa563</td>\n",
       "      <td>0</td>\n",
       "    </tr>\n",
       "    <tr>\n",
       "      <th>375804</th>\n",
       "      <td>ffffb1f7f1a008620287</td>\n",
       "      <td>0</td>\n",
       "    </tr>\n",
       "    <tr>\n",
       "      <th>375805</th>\n",
       "      <td>fffff85473f4699474b0</td>\n",
       "      <td>0</td>\n",
       "    </tr>\n",
       "  </tbody>\n",
       "</table>\n",
       "<p>375806 rows × 2 columns</p>\n",
       "</div>"
      ],
      "text/plain": [
       "                         qid  prediction\n",
       "0       0000163e3ea7c7a74cd7           0\n",
       "1       00002bd4fb5d505b9161           0\n",
       "2       00007756b4a147d2b0b3           0\n",
       "3       000086e4b7e1c7146103           0\n",
       "4       0000c4c3fbe8785a3090           0\n",
       "...                      ...         ...\n",
       "375801  ffff7fa746bd6d6197a9           0\n",
       "375802  ffffa1be31c43046ab6b           0\n",
       "375803  ffffae173b6ca6bfa563           0\n",
       "375804  ffffb1f7f1a008620287           0\n",
       "375805  fffff85473f4699474b0           0\n",
       "\n",
       "[375806 rows x 2 columns]"
      ]
     },
     "execution_count": 17,
     "metadata": {},
     "output_type": "execute_result"
    }
   ],
   "source": [
    "test_tfidf = vectorizer.fit_transform(xtesti)\n",
    "\n",
    "def submit():\n",
    "    submission = xtest[['qid']].copy()  # Use original DataFrame here\n",
    "    prediction = model.predict_proba(test_tfidf)[:, 1]\n",
    "    pred = (prediction > 0.5).astype(int)\n",
    "    submission['prediction'] = pred\n",
    "    submission.to_csv('submission.csv', index=False)\n",
    "    return submission\n",
    "\n",
    "\n",
    "submit()"
   ]
  }
 ],
 "metadata": {
  "kaggle": {
   "accelerator": "none",
   "dataSources": [
    {
     "databundleVersionId": 290346,
     "sourceId": 10737,
     "sourceType": "competition"
    }
   ],
   "dockerImageVersionId": 31012,
   "isGpuEnabled": false,
   "isInternetEnabled": true,
   "language": "python",
   "sourceType": "notebook"
  },
  "kernelspec": {
   "display_name": "Python 3",
   "language": "python",
   "name": "python3"
  },
  "language_info": {
   "codemirror_mode": {
    "name": "ipython",
    "version": 3
   },
   "file_extension": ".py",
   "mimetype": "text/x-python",
   "name": "python",
   "nbconvert_exporter": "python",
   "pygments_lexer": "ipython3",
   "version": "3.11.11"
  },
  "papermill": {
   "default_parameters": {},
   "duration": 136.827101,
   "end_time": "2025-05-01T12:18:32.868234",
   "environment_variables": {},
   "exception": null,
   "input_path": "__notebook__.ipynb",
   "output_path": "__notebook__.ipynb",
   "parameters": {},
   "start_time": "2025-05-01T12:16:16.041133",
   "version": "2.6.0"
  }
 },
 "nbformat": 4,
 "nbformat_minor": 5
}
